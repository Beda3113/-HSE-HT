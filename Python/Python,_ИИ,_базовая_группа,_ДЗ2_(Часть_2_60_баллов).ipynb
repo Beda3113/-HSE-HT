{
  "nbformat": 4,
  "nbformat_minor": 0,
  "metadata": {
    "colab": {
      "provenance": [],
      "include_colab_link": true
    },
    "kernelspec": {
      "name": "python3",
      "display_name": "Python 3"
    },
    "language_info": {
      "name": "python"
    }
  },
  "cells": [
    {
      "cell_type": "markdown",
      "metadata": {
        "id": "view-in-github",
        "colab_type": "text"
      },
      "source": [
        "<a href=\"https://colab.research.google.com/github/Beda3113/OOP/blob/main/Python%2C_%D0%98%D0%98%2C_%D0%B1%D0%B0%D0%B7%D0%BE%D0%B2%D0%B0%D1%8F_%D0%B3%D1%80%D1%83%D0%BF%D0%BF%D0%B0%2C_%D0%94%D0%972_(%D0%A7%D0%B0%D1%81%D1%82%D1%8C_2_60_%D0%B1%D0%B0%D0%BB%D0%BB%D0%BE%D0%B2).ipynb\" target=\"_parent\"><img src=\"https://colab.research.google.com/assets/colab-badge.svg\" alt=\"Open In Colab\"/></a>"
      ]
    },
    {
      "cell_type": "code",
      "execution_count": null,
      "metadata": {
        "id": "ILgZ7iicbECT"
      },
      "outputs": [],
      "source": []
    },
    {
      "cell_type": "markdown",
      "source": [
        "### Задача 1. Генератор. (15)\n",
        "\n",
        "Напишите генератор, который принимает коллекцию с вложенными итерируемыми объектами, а возвращает каждый элемент последовательно.Если \"распаковать\" все получаемые значения в list, получится \"сплющенный\" список. Например:\n",
        "\n",
        "[[1, 2, 3], [4, [5, 6, [7, 8]]]] -> [1, 2, 3, 4, 5, 6, 7, 8]\n",
        "\n",
        "Еще пример:\n",
        "[1, 2, 'abc', [2, 4], {'key' : 'value'}]\n",
        "\n",
        "-> [1, 2, 'a', 'b', 'c', 2, 4, 'k', 'e', 'y']\n",
        "\n",
        "(Итерация в словарях происходит по ключам)\n",
        "\n",
        "*Подсказка.* Для проверки, что объект является итерируемым, можно использовать\n",
        "\n",
        "<code>\n",
        "from collections.abc import Iterable\n",
        "\n",
        "...\n",
        "</code>\n",
        "\n",
        "<code>\n",
        "if isinstance(x, Iterable):\n",
        "</code>\n",
        "\n",
        "Функция <code>isinstance(x, tp)</code> проверяет, относится ли <code>x</code>  к типу <code>tp</code>"
      ],
      "metadata": {
        "id": "3hbz5ApSb36n"
      }
    },
    {
      "cell_type": "code",
      "source": [
        "isinstance(2, int)"
      ],
      "metadata": {
        "colab": {
          "base_uri": "https://localhost:8080/"
        },
        "id": "aenVG77Oc4lD",
        "outputId": "9138509c-53d4-42e8-b3d9-1c3ee615add0"
      },
      "execution_count": null,
      "outputs": [
        {
          "output_type": "execute_result",
          "data": {
            "text/plain": [
              "True"
            ]
          },
          "metadata": {},
          "execution_count": 6
        }
      ]
    },
    {
      "cell_type": "code",
      "source": [
        "from collections.abc import Iterable\n",
        "print(isinstance(1, Iterable))\n",
        "print(isinstance('abc', Iterable))"
      ],
      "metadata": {
        "colab": {
          "base_uri": "https://localhost:8080/"
        },
        "id": "QT-YXkjJc-1V",
        "outputId": "25770685-c4fb-43e2-97da-9da5e64c7851"
      },
      "execution_count": null,
      "outputs": [
        {
          "output_type": "stream",
          "name": "stdout",
          "text": [
            "False\n",
            "True\n"
          ]
        }
      ]
    },
    {
      "cell_type": "code",
      "source": [
        "from collections.abc import Iterable\n",
        "\n",
        "def flatten(iterable):\n",
        "    for item in iterable:\n",
        "        if isinstance(item, Iterable) and not isinstance(item, (str, bytes)):\n",
        "            yield from flatten(item)\n",
        "        else:\n",
        "            yield item\n",
        "\n",
        "\n",
        "example1 = [[1, 2, 3], [4, [5, 6, [7, 8]]]]\n",
        "example2 = [1, 2, 'abc', [2, 4], {'key': 'value'}]\n",
        "\n",
        "flattened1 = list(flatten(example1))\n",
        "flattened2 = list(flatten(example2))\n",
        "\n",
        "print(flattened1)\n",
        "print(flattened2)"
      ],
      "metadata": {
        "id": "gtrWiitfdleW",
        "outputId": "189cd8b3-e137-438a-d280-5cf41cab853a",
        "colab": {
          "base_uri": "https://localhost:8080/"
        }
      },
      "execution_count": 1,
      "outputs": [
        {
          "output_type": "stream",
          "name": "stdout",
          "text": [
            "[1, 2, 3, 4, 5, 6, 7, 8]\n",
            "[1, 2, 'abc', 2, 4, 'key']\n"
          ]
        }
      ]
    },
    {
      "cell_type": "markdown",
      "source": [
        "### Задача 2. itertools (15)\n",
        "\n",
        "Модуль itertools представляет много инструментов для работы с итераторами.\n",
        "\n",
        "Ознакомиться с ними можно здесь: https://docs.python.org/3/library/itertools.html\n",
        "\n",
        "Вводится числа через пробел с одной строке. Затем вводится число n.\n",
        "\n",
        "Напишите программу, которая находит все уникальные пары чисел из списка, где сумма каждой пары равна числу n. Можете использовать itertools.\n",
        "\n",
        "Например, списка [1, 2, 3, 4, 5, 6] и n=7 программа должна вывести пары чисел, которые в сумме дают 7: [(1, 6), (2, 5), (3, 4)].\n",
        "\n",
        "*Гарантируется, что числа в списке не повторяются.*\n",
        "\n",
        "*Пары в кортежах должны быть в том же порядке, что в исходном списке.*"
      ],
      "metadata": {
        "id": "L4JHtvIsdqRI"
      }
    },
    {
      "cell_type": "code",
      "source": [
        "import itertools\n",
        "\n",
        "numbers = list(map(int, input(\"Введите числа через пробел: \").split()))\n",
        "n = int(input(\"Введите число n: \"))\n",
        "\n",
        "pairs = itertools.combinations(numbers, 2)\n",
        "\n",
        "result = [pair for pair in pairs if sum(pair) == n]\n",
        "\n",
        "print(result)"
      ],
      "metadata": {
        "id": "-7-mfrC3d6Pz",
        "outputId": "4b546d0a-58b5-4b8d-b652-bdeab5f788df",
        "colab": {
          "base_uri": "https://localhost:8080/"
        }
      },
      "execution_count": 2,
      "outputs": [
        {
          "output_type": "stream",
          "name": "stdout",
          "text": [
            "Введите числа через пробел: 1 2 3 4 5 6 \n",
            "Введите число n: 7\n",
            "[(1, 6), (2, 5), (3, 4)]\n"
          ]
        }
      ]
    },
    {
      "cell_type": "markdown",
      "source": [
        "### Задача 3. Numpy (22 балла)\n",
        "\n",
        "**3.1 (Вспоминаем, что такое numpy)** (6 баллов)\n",
        "\n",
        "$ 1.$ (2.5 б.)\n",
        "\n",
        "Создайте с помощью np.random.randint numpy массив из 20-ти рандомных чисел.  (0.5 б.)\n",
        "Посчитайте с помощью методов numpy и выведите на экран:\n",
        "\n",
        "* среднее значение в массиве (0.5 б.)\n",
        "* минимальное значение в массиве (0.5 б.)\n",
        "* максимальное значение в массиве (0.5 б.)\n",
        "* индекс минимального элемента в массиве (0.5 б.)\n",
        "\n",
        "\n",
        "$ 2.$ (1.5 б.)Создайте два numpy массива: в первом должны быть четные числа от 2 до 14 включительно, а во втором — числа 7, 11, 17, 18, 23, 30, 45.\n",
        "\n",
        "* Сложите массивы и возведите элементы получившегося массива в квадрат\n",
        "* Выведите все элементы из первого массива, которые стоят на тех местах, где элементы второго массива больше 12 и дают остаток 3 при делении на 5.\n",
        "* Для первого массива найдите остатки от деления на 2, а для второго — на 3.\n",
        "\n",
        "\n",
        "$ 3.$ (2 б.)\n",
        "1. Сгенерируйте рандомный массив b размера 3x1.\n",
        "2. Сгенерируйте матрицу С размера 3x3.\n",
        "3. Решите систему Cx = b с помощью numpy.linalg.solve\n",
        "4. Подумайте/погуглите, в каком случае numpy.linalg.solve вернет ошибку LinAlgError. Воспроизведите этот случай."
      ],
      "metadata": {
        "id": "ye_4O1r4eDZ_"
      }
    },
    {
      "cell_type": "code",
      "source": [
        "import numpy as np\n",
        "\n",
        "random_array = np.random.randint(0, 100, size=20)\n",
        "\n",
        "mean_value = np.mean(random_array)\n",
        "min_value = np.min(random_array)\n",
        "max_value = np.max(random_array)\n",
        "index_of_min = np.argmin(random_array)\n",
        "\n",
        "print(\"Случайный массив:\", random_array)\n",
        "print(\"Среднее значение:\", mean_value)\n",
        "print(\"Минимальное значение:\", min_value)\n",
        "print(\"Максимальное значение:\", max_value)\n",
        "print(\"Индекс минимального элемента:\", index_of_min)\n",
        "\n",
        "even_array = np.arange(2, 15, 2)\n",
        "second_array = np.array([7, 11, 17, 18, 23, 30, 45])\n",
        "sum_squared_array = (even_array + second_array[:len(even_array)]) ** 2\n",
        "\n",
        "\n",
        "condition_indices = (second_array > 12) & (second_array % 5 == 3)\n",
        "filtered_elements = even_array[condition_indices[:len(even_array)]]\n",
        "\n",
        "even_remainders = even_array % 2\n",
        "second_remainders = second_array % 3\n",
        "\n",
        "print(\"Первый массив (четные числа):\", even_array)\n",
        "print(\"Второй массив:\", second_array)\n",
        "print(\"Сумма и квадрат:\", sum_squared_array)\n",
        "print(\"Элементы первого массива по условиям:\", filtered_elements)\n",
        "print(\"Остатки от деления на 2 для первого массива:\", even_remainders)\n",
        "print(\"Остатки от деления на 3 для второго массива:\", second_remainders)\n",
        "\n",
        "b = np.random.rand(3, 1)\n",
        "\n",
        "C = np.random.rand(3, 3)\n",
        "\n",
        "x = np.linalg.solve(C, b)\n",
        "\n",
        "print(\"Решение системы Cx = b:\", x)\n",
        "\n",
        "C_singular = np.array([[1, 2, 3],\n",
        "                       [1, 2, 3],\n",
        "                       [1, 2, 3]])\n",
        "\n",
        "try:\n",
        "    x_singular = np.linalg.solve(C_singular, b)\n",
        "except np.linalg.LinAlgError as e:\n",
        "    print(\"Ошибка при решении системы:\", e)"
      ],
      "metadata": {
        "id": "P_dCQqaSkg6F",
        "outputId": "a7d61998-039e-4e47-baa4-cd5ce0c019f8",
        "colab": {
          "base_uri": "https://localhost:8080/"
        }
      },
      "execution_count": 9,
      "outputs": [
        {
          "output_type": "stream",
          "name": "stdout",
          "text": [
            "Случайный массив: [88  6 45 70 71 21 29 85 39 69 86 32 77 97 91 84 17 77 72 35]\n",
            "Среднее значение: 59.55\n",
            "Минимальное значение: 6\n",
            "Максимальное значение: 97\n",
            "Индекс минимального элемента: 1\n",
            "Первый массив (четные числа): [ 2  4  6  8 10 12 14]\n",
            "Второй массив: [ 7 11 17 18 23 30 45]\n",
            "Сумма и квадрат: [  81  225  529  676 1089 1764 3481]\n",
            "Элементы первого массива по условиям: [ 8 10]\n",
            "Остатки от деления на 2 для первого массива: [0 0 0 0 0 0 0]\n",
            "Остатки от деления на 3 для второго массива: [1 2 2 0 2 0 0]\n",
            "Решение системы Cx = b: [[ 1.15612504]\n",
            " [ 1.78940656]\n",
            " [-0.46368758]]\n",
            "Ошибка при решении системы: Singular matrix\n"
          ]
        }
      ]
    },
    {
      "cell_type": "markdown",
      "source": [
        "**3.2 (16 баллов)**\n",
        "\n",
        "Сравните производительность операций умножения матриц с использованием библиотеки NumPy и стандартных списков Python для матриц размером от 2x2 до 100x100.\n",
        "\n",
        "1. Сгенерируйте две матрицы A и B случайного размера от nxn, заполненные случайными целыми числами от 1 до 50. **(1 балл)**\n",
        "2. Используя библиотеку NumPy, выполните умножение матриц A и B. Измерьте время выполнения операции. **(2 балла)**\n",
        "3. Реализуйте функцию для умножения матриц с помощью стандартных списков Python. Измерьте время выполнения этой операции.  **(3 балла)**\n",
        "4. Сделайте вышеперечисленные пункты для n=2,...100. **(4 балла)**\n",
        "5. Для какого-нибудь n проверьте, что результаты совпадают. **(1 балл)**\n",
        "\n",
        "\n",
        "6. **(5 баллов)**\n",
        "\n",
        "(Вариант 1) Для каждого n выведите на экран размеры матриц и время выполнения умножения для обеих реализаций.\n",
        "\n",
        "(Вариант 2, с визуализацией) Постройте график, где по оси X будет размер матрицы, по оси Y - время выполнения операции. Постройте два графика (для numpy и для стандартных списков)\n",
        "\n"
      ],
      "metadata": {
        "id": "pWPq7FRRkkAF"
      }
    },
    {
      "cell_type": "code",
      "source": [
        "import numpy as np\n",
        "import random\n",
        "import time\n",
        "import matplotlib.pyplot as plt\n",
        "\n",
        "def multiply_matrices(A, B):\n",
        "    n = len(A)\n",
        "    result = [[0] * n for _ in range(n)]\n",
        "    for i in range(n):\n",
        "        for j in range(n):\n",
        "            for k in range(n):\n",
        "                result[i][j] += A[i][k] * B[k][j]\n",
        "    return result\n",
        "\n",
        "sizes = []\n",
        "numpy_times = []\n",
        "list_times = []\n",
        "\n",
        "for n in range(2, 101):\n",
        "\n",
        "    A = np.random.randint(1, 51, size=(n, n))\n",
        "    B = np.random.randint(1, 51, size=(n, n))\n",
        "\n",
        "\n",
        "    start_time = time.time()\n",
        "    C_numpy = A @ B\n",
        "    numpy_time = time.time() - start_time\n",
        "\n",
        "\n",
        "    A_list = A.tolist()\n",
        "    B_list = B.tolist()\n",
        "\n",
        "    start_time = time.time()\n",
        "    C_list = multiply_matrices(A_list, B_list)\n",
        "    list_time = time.time() - start_time\n",
        "\n",
        "\n",
        "    sizes.append(n)\n",
        "    numpy_times.append(numpy_time)\n",
        "    list_times.append(list_time)\n",
        "\n",
        "\n",
        "    if n == 10:\n",
        "        assert np.array_equal(C_numpy, C_list), \"Результаты не совпадают!\"\n",
        "\n",
        "plt.figure(figsize=(12, 6))\n",
        "plt.plot(sizes, numpy_times, label='NumPy', marker='o')\n",
        "plt.plot(sizes, list_times, label='Стандартные списки', marker='o')\n",
        "plt.xlabel('Размер матрицы (n x n)')\n",
        "plt.ylabel('Время выполнения (сек.)')\n",
        "plt.title('Сравнение производительности умножения матриц')\n",
        "plt.legend()\n",
        "plt.grid()\n",
        "plt.show()\n",
        "\n",
        "for i in range(len(sizes)):\n",
        "    print(f\"Размер матрицы: {sizes[i]}x{sizes[i]}, Время NumPy: {numpy_times[i]:.6f} сек., Время списков: {list_times[i]:.6f} сек.\")"
      ],
      "metadata": {
        "id": "0lx0EogXlM48",
        "outputId": "aef35929-f861-47e9-8220-d8a5e90c54d1",
        "colab": {
          "base_uri": "https://localhost:8080/",
          "height": 1000
        }
      },
      "execution_count": 7,
      "outputs": [
        {
          "output_type": "display_data",
          "data": {
            "text/plain": [
              "<Figure size 1200x600 with 1 Axes>"
            ],
            "image/png": "[encoded data removed]"
          },
          "metadata": {}
        },
        {
          "output_type": "stream",
          "name": "stdout",
          "text": [
            "Размер матрицы: 2x2, Время NumPy: 0.000122 сек., Время списков: 0.000013 сек.\n",
            "Размер матрицы: 3x3, Время NumPy: 0.000028 сек., Время списков: 0.000019 сек.\n",
            "Размер матрицы: 4x4, Время NumPy: 0.000009 сек., Время списков: 0.000038 сек.\n",
            "Размер матрицы: 5x5, Время NumPy: 0.000007 сек., Время списков: 0.000063 сек.\n",
            "Размер матрицы: 6x6, Время NumPy: 0.000012 сек., Время списков: 0.000212 сек.\n",
            "Размер матрицы: 7x7, Время NumPy: 0.000021 сек., Время списков: 0.000107 сек.\n",
            "Размер матрицы: 8x8, Время NumPy: 0.000011 сек., Время списков: 0.000157 сек.\n",
            "Размер матрицы: 9x9, Время NumPy: 0.000018 сек., Время списков: 0.000196 сек.\n",
            "Размер матрицы: 10x10, Время NumPy: 0.000010 сек., Время списков: 0.000241 сек.\n",
            "Размер матрицы: 11x11, Время NumPy: 0.000018 сек., Время списков: 0.000324 сек.\n",
            "Размер матрицы: 12x12, Время NumPy: 0.000012 сек., Время списков: 0.000485 сек.\n",
            "Размер матрицы: 13x13, Время NumPy: 0.000014 сек., Время списков: 0.001137 сек.\n",
            "Размер матрицы: 14x14, Время NumPy: 0.000015 сек., Время списков: 0.001681 сек.\n",
            "Размер матрицы: 15x15, Время NumPy: 0.000019 сек., Время списков: 0.001203 сек.\n",
            "Размер матрицы: 16x16, Время NumPy: 0.000021 сек., Время списков: 0.001439 сек.\n",
            "Размер матрицы: 17x17, Время NumPy: 0.000019 сек., Время списков: 0.001209 сек.\n",
            "Размер матрицы: 18x18, Время NumPy: 0.000014 сек., Время списков: 0.001260 сек.\n",
            "Размер матрицы: 19x19, Время NumPy: 0.000012 сек., Время списков: 0.001470 сек.\n",
            "Размер матрицы: 20x20, Время NumPy: 0.000013 сек., Время списков: 0.001704 сек.\n",
            "Размер матрицы: 21x21, Время NumPy: 0.000015 сек., Время списков: 0.001997 сек.\n",
            "Размер матрицы: 22x22, Время NumPy: 0.000023 сек., Время списков: 0.002347 сек.\n",
            "Размер матрицы: 23x23, Время NumPy: 0.000018 сек., Время списков: 0.002524 сек.\n",
            "Размер матрицы: 24x24, Время NumPy: 0.000016 сек., Время списков: 0.002865 сек.\n",
            "Размер матрицы: 25x25, Время NumPy: 0.000027 сек., Время списков: 0.003270 сек.\n",
            "Размер матрицы: 26x26, Время NumPy: 0.000022 сек., Время списков: 0.003646 сек.\n",
            "Размер матрицы: 27x27, Время NumPy: 0.000022 сек., Время списков: 0.004024 сек.\n",
            "Размер матрицы: 28x28, Время NumPy: 0.000024 сек., Время списков: 0.004651 сек.\n",
            "Размер матрицы: 29x29, Время NumPy: 0.000031 сек., Время списков: 0.005146 сек.\n",
            "Размер матрицы: 30x30, Время NumPy: 0.000034 сек., Время списков: 0.005747 сек.\n",
            "Размер матрицы: 31x31, Время NumPy: 0.000040 сек., Время списков: 0.008003 сек.\n",
            "Размер матрицы: 32x32, Время NumPy: 0.000069 сек., Время списков: 0.007260 сек.\n",
            "Размер матрицы: 33x33, Время NumPy: 0.000058 сек., Время списков: 0.007650 сек.\n",
            "Размер матрицы: 34x34, Время NumPy: 0.000051 сек., Время списков: 0.009166 сек.\n",
            "Размер матрицы: 35x35, Время NumPy: 0.000109 сек., Время списков: 0.009779 сек.\n",
            "Размер матрицы: 36x36, Время NumPy: 0.000077 сек., Время списков: 0.009626 сек.\n",
            "Размер матрицы: 37x37, Время NumPy: 0.000053 сек., Время списков: 0.010480 сек.\n",
            "Размер матрицы: 38x38, Время NumPy: 0.000067 сек., Время списков: 0.011155 сек.\n",
            "Размер матрицы: 39x39, Время NumPy: 0.000078 сек., Время списков: 0.012131 сек.\n",
            "Размер матрицы: 40x40, Время NumPy: 0.000099 сек., Время списков: 0.013879 сек.\n",
            "Размер матрицы: 41x41, Время NumPy: 0.000078 сек., Время списков: 0.014082 сек.\n",
            "Размер матрицы: 42x42, Время NumPy: 0.000088 сек., Время списков: 0.015519 сек.\n",
            "Размер матрицы: 43x43, Время NumPy: 0.000079 сек., Время списков: 0.017010 сек.\n",
            "Размер матрицы: 44x44, Время NumPy: 0.000100 сек., Время списков: 0.017353 сек.\n",
            "Размер матрицы: 45x45, Время NumPy: 0.000086 сек., Время списков: 0.018753 сек.\n",
            "Размер матрицы: 46x46, Время NumPy: 0.000100 сек., Время списков: 0.021886 сек.\n",
            "Размер матрицы: 47x47, Время NumPy: 0.000104 сек., Время списков: 0.021945 сек.\n",
            "Размер матрицы: 48x48, Время NumPy: 0.000113 сек., Время списков: 0.022533 сек.\n",
            "Размер матрицы: 49x49, Время NumPy: 0.000120 сек., Время списков: 0.024411 сек.\n",
            "Размер матрицы: 50x50, Время NumPy: 0.000153 сек., Время списков: 0.025563 сек.\n",
            "Размер матрицы: 51x51, Время NumPy: 0.000188 сек., Время списков: 0.027582 сек.\n",
            "Размер матрицы: 52x52, Время NumPy: 0.000141 сек., Время списков: 0.028880 сек.\n",
            "Размер матрицы: 53x53, Время NumPy: 0.000159 сек., Время списков: 0.032473 сек.\n",
            "Размер матрицы: 54x54, Время NumPy: 0.000144 сек., Время списков: 0.033259 сек.\n",
            "Размер матрицы: 55x55, Время NumPy: 0.000172 сек., Время списков: 0.033782 сек.\n",
            "Размер матрицы: 56x56, Время NumPy: 0.000155 сек., Время списков: 0.050849 сек.\n",
            "Размер матрицы: 57x57, Время NumPy: 0.000179 сек., Время списков: 0.037669 сек.\n",
            "Размер матрицы: 58x58, Время NumPy: 0.000170 сек., Время списков: 0.040141 сек.\n",
            "Размер матрицы: 59x59, Время NumPy: 0.000183 сек., Время списков: 0.042029 сек.\n",
            "Размер матрицы: 60x60, Время NumPy: 0.000196 сек., Время списков: 0.044827 сек.\n",
            "Размер матрицы: 61x61, Время NumPy: 0.000205 сек., Время списков: 0.046168 сек.\n",
            "Размер матрицы: 62x62, Время NumPy: 0.000213 сек., Время списков: 0.048989 сек.\n",
            "Размер матрицы: 63x63, Время NumPy: 0.000277 сек., Время списков: 0.050905 сек.\n",
            "Размер матрицы: 64x64, Время NumPy: 0.000316 сек., Время списков: 0.056068 сек.\n",
            "Размер матрицы: 65x65, Время NumPy: 0.000467 сек., Время списков: 0.061169 сек.\n",
            "Размер матрицы: 66x66, Время NumPy: 0.000279 сек., Время списков: 0.060614 сек.\n",
            "Размер матрицы: 67x67, Время NumPy: 0.000525 сек., Время списков: 0.065204 сек.\n",
            "Размер матрицы: 68x68, Время NumPy: 0.000299 сек., Время списков: 0.064861 сек.\n",
            "Размер матрицы: 69x69, Время NumPy: 0.000334 сек., Время списков: 0.066788 сек.\n",
            "Размер матрицы: 70x70, Время NumPy: 0.000358 сек., Время списков: 0.069649 сек.\n",
            "Размер матрицы: 71x71, Время NumPy: 0.000313 сек., Время списков: 0.072005 сек.\n",
            "Размер матрицы: 72x72, Время NumPy: 0.000343 сек., Время списков: 0.078271 сек.\n",
            "Размер матрицы: 73x73, Время NumPy: 0.000380 сек., Время списков: 0.090754 сек.\n",
            "Размер матрицы: 74x74, Время NumPy: 0.000749 сек., Время списков: 0.082014 сек.\n",
            "Размер матрицы: 75x75, Время NumPy: 0.000421 сек., Время списков: 0.085847 сек.\n",
            "Размер матрицы: 76x76, Время NumPy: 0.000430 сек., Время списков: 0.090070 сек.\n",
            "Размер матрицы: 77x77, Время NumPy: 0.000454 сек., Время списков: 0.096863 сек.\n",
            "Размер матрицы: 78x78, Время NumPy: 0.000709 сек., Время списков: 0.098147 сек.\n",
            "Размер матрицы: 79x79, Время NumPy: 0.000484 сек., Время списков: 0.104066 сек.\n",
            "Размер матрицы: 80x80, Время NumPy: 0.000601 сек., Время списков: 0.106389 сек.\n",
            "Размер матрицы: 81x81, Время NumPy: 0.000536 сек., Время списков: 0.107222 сек.\n",
            "Размер матрицы: 82x82, Время NumPy: 0.000558 сек., Время списков: 0.114410 сек.\n",
            "Размер матрицы: 83x83, Время NumPy: 0.000549 сек., Время списков: 0.129441 сек.\n",
            "Размер матрицы: 84x84, Время NumPy: 0.001009 сек., Время списков: 0.124683 сек.\n",
            "Размер матрицы: 85x85, Время NumPy: 0.000792 сек., Время списков: 0.123665 сек.\n",
            "Размер матрицы: 86x86, Время NumPy: 0.000616 сек., Время списков: 0.130689 сек.\n",
            "Размер матрицы: 87x87, Время NumPy: 0.000629 сек., Время списков: 0.135669 сек.\n",
            "Размер матрицы: 88x88, Время NumPy: 0.000653 сек., Время списков: 0.140434 сек.\n",
            "Размер матрицы: 89x89, Время NumPy: 0.000787 сек., Время списков: 0.145776 сек.\n",
            "Размер матрицы: 90x90, Время NumPy: 0.000688 сек., Время списков: 0.151255 сек.\n",
            "Размер матрицы: 91x91, Время NumPy: 0.000864 сек., Время списков: 0.165977 сек.\n",
            "Размер матрицы: 92x92, Время NumPy: 0.000667 сек., Время списков: 0.158923 сек.\n",
            "Размер матрицы: 93x93, Время NumPy: 0.001235 сек., Время списков: 0.164613 сек.\n",
            "Размер матрицы: 94x94, Время NumPy: 0.000974 сек., Время списков: 0.173143 сек.\n",
            "Размер матрицы: 95x95, Время NumPy: 0.000851 сек., Время списков: 0.175389 сек.\n",
            "Размер матрицы: 96x96, Время NumPy: 0.001015 сек., Время списков: 0.182015 сек.\n",
            "Размер матрицы: 97x97, Время NumPy: 0.000832 сек., Время списков: 0.198433 сек.\n",
            "Размер матрицы: 98x98, Время NumPy: 0.000851 сек., Время списков: 0.198425 сек.\n",
            "Размер матрицы: 99x99, Время NumPy: 0.000887 сек., Время списков: 0.201278 сек.\n",
            "Размер матрицы: 100x100, Время NumPy: 0.000921 сек., Время списков: 0.204321 сек.\n"
          ]
        }
      ]
    },
    {
      "cell_type": "markdown",
      "source": [
        "### Задача 4. Введение в pandas (8 баллов)\n",
        "\n",
        "Работаем с датасетом по кредитному скорингу loan_data.csv. Скачайте его здесь https://disk.yandex.ru/d/xkujsz3HFJ8taw и считайте с помощью pd.read_csv.\n",
        "\n",
        "Используемые столбцы:\n",
        "\n",
        "- credit.policy - 1, если клиент соответствует критериям выдачи кредита, 0 в противном случае.\n",
        "- purpose - цель кредита (принимает значения \"credit_card\", \"debt_consolidation\", \"educational\", \"home_improvement\", \"major_purchase\", \"small_business\"  и \"all_other\").\n",
        "- int.rate - процентная ставка по кредиту.\n",
        "- installment - ежемесячный платеж, причитающийся заемщику в случае финансирования кредита.\n",
        "- log.annual.inc - натуральный логарифм годового дохода заемщика, представленного им самим.\n",
        "- dti - отношение долга к доходу заемщика (сумма долга, деленная на годовой доход).\n",
        "- fico - кредитный рейтинг FICO заемщика.\n",
        "- days.with.cr.line - количество дней, в течение которых у заемщика была открыта кредитная линия.\n",
        "- revol.bal - возобновляемый баланс заемщика (сумма, не выплаченная в конце платежного цикла по кредитной карте).\n",
        "- revol.util - коэффициент использования возобновляемой кредитной линии заемщиком (сумма использованной кредитной линии по отношению к общему объему доступных кредитов).\n",
        "- inq.last.6mths - количество запросов заемщика от кредиторов за последние 6 месяцев.\n",
        "- delinq.2yrs - количество раз, когда заемщик просрочивал платеж более чем на 30 дней за последние 2 года.\n",
        "- pub.rec - количество негативных публичных записей о заемщике (заявления о банкротстве, налоговые залоги или судебные решения).\n",
        "- not.fully.paid - неполностью выплаченный кредит ранее."
      ],
      "metadata": {
        "id": "iwbwgOaEpPSA"
      }
    },
    {
      "cell_type": "code",
      "source": [
        "import pandas as pd\n",
        "data = pd.read_csv('loan_data.csv')"
      ],
      "metadata": {
        "id": "Efilo6clpR6h"
      },
      "execution_count": null,
      "outputs": []
    },
    {
      "cell_type": "markdown",
      "source": [
        "Каждый пункт весит 0.6 балла, максимальный балл за задание - 8.\n",
        "\n",
        "1. Выведите первые 5 строк датасета.\n",
        "2. Сколько в датасете строк и столбцов?\n",
        "3. Есть ли в датасете пропуски?\n",
        "4. Выведите все описательные статистики по переменным\n",
        "5. Какая средняя процентная ставка по кредиту?\n",
        "6. Сколько клиентов соответствует условиям выдачи кредита?\n",
        "7. Как отличается средний логарифм годового дохода заемщиков, которые соответствует условиям выдача кредита и тех, кто не соответствует?\n",
        "8. Какой медианный ежемесячный платеж?\n",
        "9. Сколько уникальных значений у переменной not.fully.paid?\n",
        "10. Сделайте столбец annual.inc для подсчета годового дохода (выполните обратное преобразование столбца log.annual.inc)\n",
        "11. Сделайте группировку по двум переменным: \tcredit.policy\t и not.fully.paid. Посчитайте для каждой группы количество клиентов, средний ежемесячный платеж, медианный ежемесячный платеж, средний годовой доход.\n",
        "12. Выведите топ-10 клиентов по уровню дохода среди тех, кто не удовлетворяет критериям выдачи кредита.\n",
        "13. Есть ли выбросы у переменной  annual.inc? Выбросами считайте наблюдения, которые не лежает в границах $[Q1-1.5IQR, Q3+1.5IQR]$, где $IQR$ - межквартильный размах,  $Q1$ - 25 перцентиль, $Q3$ - 75 перцентиль.\n",
        "14. Постройте распределения переменных annual.inc и log.annual.inc"
      ],
      "metadata": {
        "id": "m-tfPQNBrzsq"
      }
    }
  ]
}
